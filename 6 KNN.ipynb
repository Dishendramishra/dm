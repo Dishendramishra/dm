{
 "cells": [
  {
   "cell_type": "markdown",
   "metadata": {},
   "source": [
    "### Kmeans on Iris Dataset"
   ]
  },
  {
   "cell_type": "code",
   "execution_count": 26,
   "metadata": {},
   "outputs": [],
   "source": [
    "#import statments\n",
    "import numpy as np\n",
    "from sklearn.neighbors import KNeighborsClassifier\n",
    "from sklearn.datasets import load_iris, fetch_olivetti_faces\n",
    "from sklearn.metrics import accuracy_score\n"
   ]
  },
  {
   "cell_type": "code",
   "execution_count": 27,
   "metadata": {},
   "outputs": [
    {
     "name": "stdout",
     "output_type": "stream",
     "text": [
      "Accuracy Score:\n",
      "k=1 : 73.68%\n",
      "k=2 : 68.42%\n",
      "k=3 : 76.32%\n",
      "k=4 : 71.05%\n",
      "k=5 : 78.95%\n",
      "k=6 : 76.32%\n",
      "k=7 : 76.32%\n",
      "k=8 : 71.05%\n",
      "k=9 : 76.32%\n",
      "k=10 : 73.68%\n",
      "k=11 : 78.95%\n",
      "k=12 : 76.32%\n",
      "k=13 : 78.95%\n",
      "k=14 : 73.68%\n",
      "k=15 : 78.95%\n",
      "k=16 : 76.32%\n",
      "k=17 : 84.21%\n",
      "k=18 : 84.21%\n",
      "k=19 : 84.21%\n"
     ]
    }
   ],
   "source": [
    "iris = load_iris()\n",
    "X = iris.data[:,:2]\n",
    "Y = iris.target\n",
    "\n",
    "number_of_samples = len(Y)\n",
    "\n",
    "#shuffling samples\n",
    "random_indices = np.random.permutation(number_of_samples)\n",
    "\n",
    "#Training set\n",
    "num_training_samples = int(number_of_samples*0.75)\n",
    "x_train = X[random_indices[:num_training_samples]]\n",
    "y_train = Y[random_indices[:num_training_samples]]\n",
    "\n",
    "#Test set\n",
    "x_test = X[random_indices[num_training_samples:]]\n",
    "y_test = Y[random_indices[num_training_samples:]]\n",
    "\n",
    "#Visualizing the training data\n",
    "X_class0 = np.asmatrix([x_train[i] for i in range(len(x_train)) if y_train[i]==0]) #Picking only the first two classes\n",
    "Y_class0 = np.zeros((X_class0.shape[0]),dtype=np.int)\n",
    "\n",
    "X_class1 = np.asmatrix([x_train[i] for i in range(len(x_train)) if y_train[i]==1])\n",
    "Y_class1 = np.ones((X_class1.shape[0]),dtype=np.int)\n",
    "\n",
    "X_class2 = np.asmatrix([x_train[i] for i in range(len(x_train)) if y_train[i]==2])\n",
    "Y_class2 = np.full((X_class2.shape[0]),fill_value=2,dtype=np.int)\n",
    "\n",
    "print(\"Accuracy Score:\")\n",
    "for i in range(1,20):\n",
    "    model = KNeighborsClassifier(n_neighbors = i) # K = 5\n",
    "    model.fit(x_train, y_train)\n",
    "\n",
    "    predictions = model.predict(x_test)\n",
    "\n",
    "    print(\"k={} : {}%\".format(i,round(accuracy_score(y_test,predictions)*100,2)))\n",
    "\n",
    "\n"
   ]
  }
 ],
 "metadata": {
  "kernelspec": {
   "display_name": "Python 3",
   "language": "python",
   "name": "python3"
  },
  "language_info": {
   "codemirror_mode": {
    "name": "ipython",
    "version": 3
   },
   "file_extension": ".py",
   "mimetype": "text/x-python",
   "name": "python",
   "nbconvert_exporter": "python",
   "pygments_lexer": "ipython3",
   "version": "3.6.3"
  }
 },
 "nbformat": 4,
 "nbformat_minor": 2
}
