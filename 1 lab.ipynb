{
 "cells": [
  {
   "cell_type": "code",
   "execution_count": 8,
   "metadata": {},
   "outputs": [],
   "source": [
    "#import statments\n",
    "import csv\n",
    "import pandas as pd\n",
    "import matplotlib.pyplot as plt"
   ]
  },
  {
   "cell_type": "markdown",
   "metadata": {
    "scrolled": true
   },
   "source": [
    "### i) Read the data from th file 'people.txt'"
   ]
  },
  {
   "cell_type": "code",
   "execution_count": 2,
   "metadata": {
    "scrolled": true
   },
   "outputs": [
    {
     "data": {
      "text/html": [
       "<div>\n",
       "<style scoped>\n",
       "    .dataframe tbody tr th:only-of-type {\n",
       "        vertical-align: middle;\n",
       "    }\n",
       "\n",
       "    .dataframe tbody tr th {\n",
       "        vertical-align: top;\n",
       "    }\n",
       "\n",
       "    .dataframe thead th {\n",
       "        text-align: right;\n",
       "    }\n",
       "</style>\n",
       "<table border=\"1\" class=\"dataframe\">\n",
       "  <thead>\n",
       "    <tr style=\"text-align: right;\">\n",
       "      <th></th>\n",
       "      <th>Age</th>\n",
       "      <th>Age_group</th>\n",
       "      <th>Height</th>\n",
       "      <th>Status</th>\n",
       "      <th>Years_married</th>\n",
       "    </tr>\n",
       "  </thead>\n",
       "  <tbody>\n",
       "    <tr>\n",
       "      <th>0</th>\n",
       "      <td>21</td>\n",
       "      <td>adult</td>\n",
       "      <td>6.0</td>\n",
       "      <td>single</td>\n",
       "      <td>-1</td>\n",
       "    </tr>\n",
       "    <tr>\n",
       "      <th>1</th>\n",
       "      <td>2</td>\n",
       "      <td>child</td>\n",
       "      <td>3.0</td>\n",
       "      <td>married</td>\n",
       "      <td>0</td>\n",
       "    </tr>\n",
       "    <tr>\n",
       "      <th>2</th>\n",
       "      <td>18</td>\n",
       "      <td>adult</td>\n",
       "      <td>5.7</td>\n",
       "      <td>married</td>\n",
       "      <td>20</td>\n",
       "    </tr>\n",
       "    <tr>\n",
       "      <th>3</th>\n",
       "      <td>221</td>\n",
       "      <td>elderly</td>\n",
       "      <td>5.0</td>\n",
       "      <td>widow</td>\n",
       "      <td>2</td>\n",
       "    </tr>\n",
       "    <tr>\n",
       "      <th>4</th>\n",
       "      <td>34</td>\n",
       "      <td>child</td>\n",
       "      <td>-7.0</td>\n",
       "      <td>married</td>\n",
       "      <td>3</td>\n",
       "    </tr>\n",
       "  </tbody>\n",
       "</table>\n",
       "</div>"
      ],
      "text/plain": [
       "   Age Age_group  Height   Status  Years_married\n",
       "0   21     adult     6.0   single             -1\n",
       "1    2     child     3.0  married              0\n",
       "2   18     adult     5.7  married             20\n",
       "3  221   elderly     5.0    widow              2\n",
       "4   34     child    -7.0  married              3"
      ]
     },
     "execution_count": 2,
     "metadata": {},
     "output_type": "execute_result"
    }
   ],
   "source": [
    "data = pd.read_csv(\"people.txt.csv\")\n",
    "data"
   ]
  },
  {
   "cell_type": "markdown",
   "metadata": {
    "scrolled": true
   },
   "source": [
    "### ii) Create a ruleset E that contains rules to check:\n",
    "\n",
    "1. 0<age<150\n",
    "<br>\n",
    "2. age > years_married\n",
    "<br>\n",
    "3. status $\\epsilon$ {\"single\", \"married\", \"widow\"}\n",
    "<br>\n",
    "4. age<18       agegroup=\"child\" <br>\n",
    "   18<=age<65   agegroup=\"adult\" <br>\n",
    "   65<=age      agegroup=\"elderly\""
   ]
  },
  {
   "cell_type": "code",
   "execution_count": 3,
   "metadata": {
    "scrolled": true
   },
   "outputs": [],
   "source": [
    "def rule4(row):\n",
    "    age = row[1]\n",
    "    agegroup = row[2]\n",
    "    \n",
    "    if age<18 and agegroup==\"child\":\n",
    "        return True\n",
    "    if age>=18 and age<65 and agegroup==\"adult\":\n",
    "        return True\n",
    "    if age>65 and agegroup==\"elderly\":\n",
    "        return True\n",
    "    return False\n",
    "    \n",
    "rules = [ lambda x: True if int(x[1])>0 and int(x[1])<150 else False, # 0<Age<150\n",
    "          lambda x: True if x[1]>x[5] else False,                      # Age > Years_married\n",
    "          lambda x: True if x[4] in [\"single\", \"married\", \"widow\"] else False,\n",
    "          rule4\n",
    "        ]"
   ]
  },
  {
   "cell_type": "markdown",
   "metadata": {},
   "source": [
    "### iii) Check wether ruleset E is voilated by the data in the file."
   ]
  },
  {
   "cell_type": "code",
   "execution_count": 4,
   "metadata": {
    "scrolled": true
   },
   "outputs": [
    {
     "name": "stdout",
     "output_type": "stream",
     "text": [
      "Rule0 on Row0  True\n",
      "Rule0 on Row1  True\n",
      "Rule0 on Row2  True\n",
      "Rule0 on Row3  False\n",
      "Rule0 on Row4  True\n",
      "=======================\n",
      "Rule1 on Row0  True\n",
      "Rule1 on Row1  True\n",
      "Rule1 on Row2  False\n",
      "Rule1 on Row3  True\n",
      "Rule1 on Row4  True\n",
      "=======================\n",
      "Rule2 on Row0  True\n",
      "Rule2 on Row1  True\n",
      "Rule2 on Row2  True\n",
      "Rule2 on Row3  True\n",
      "Rule2 on Row4  True\n",
      "=======================\n",
      "Rule3 on Row0  True\n",
      "Rule3 on Row1  True\n",
      "Rule3 on Row2  True\n",
      "Rule3 on Row3  True\n",
      "Rule3 on Row4  False\n",
      "=======================\n"
     ]
    }
   ],
   "source": [
    "rules_voilation_count = [0 for i in range(5)]\n",
    "\n",
    "for index, rule in enumerate(rules):\n",
    "    for row in data.itertuples():\n",
    "        result = rule(row)\n",
    "        if not result:\n",
    "            rules_voilation_count[index] += 1\n",
    "            \n",
    "        print(\"Rule{} on Row{} \".format(index,row[0]),result)\n",
    "    print(\"=======================\")"
   ]
  },
  {
   "cell_type": "markdown",
   "metadata": {},
   "source": [
    "### iV) Summarize the results obtained in part (iii)"
   ]
  },
  {
   "cell_type": "markdown",
   "metadata": {},
   "source": [
    "### v) Visvualize the results obtained in part (iii) "
   ]
  },
  {
   "cell_type": "code",
   "execution_count": 13,
   "metadata": {},
   "outputs": [
    {
     "name": "stdout",
     "output_type": "stream",
     "text": [
      "[1, 1, 0, 1, 0]\n"
     ]
    },
    {
     "data": {
      "image/png": "[encoded data removed]",
      "text/plain": [
       "<matplotlib.figure.Figure at 0x7fc822096a90>"
      ]
     },
     "metadata": {},
     "output_type": "display_data"
    }
   ],
   "source": [
    "print(rules_voilation_count)\n",
    "\n",
    "x = list(range(1,6))\n",
    "y = rules_voilation_count\n",
    "\n",
    "\n",
    "plt.bar(x,y)\n",
    "\n",
    "plt.xlabel(\"Rules\")\n",
    "plt.ylabel(\"Voilation Count\");"
   ]
  }
 ],
 "metadata": {
  "kernelspec": {
   "display_name": "Python 3",
   "language": "python",
   "name": "python3"
  },
  "language_info": {
   "codemirror_mode": {
    "name": "ipython",
    "version": 3
   },
   "file_extension": ".py",
   "mimetype": "text/x-python",
   "name": "python",
   "nbconvert_exporter": "python",
   "pygments_lexer": "ipython3",
   "version": "3.6.3"
  }
 },
 "nbformat": 4,
 "nbformat_minor": 2
}
