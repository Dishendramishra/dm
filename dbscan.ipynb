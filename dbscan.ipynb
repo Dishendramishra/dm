{
 "cells": [
  {
   "cell_type": "code",
   "execution_count": 28,
   "metadata": {},
   "outputs": [],
   "source": [
    "import numpy as np\n",
    "import pandas as pd\n",
    "\n",
    "from sklearn.cluster import DBSCAN\n",
    "from sklearn import datasets"
   ]
  },
  {
   "cell_type": "markdown",
   "metadata": {},
   "source": [
    "## Reading dataset"
   ]
  },
  {
   "cell_type": "code",
   "execution_count": 27,
   "metadata": {},
   "outputs": [
    {
     "data": {
      "text/html": [
       "<div>\n",
       "<style scoped>\n",
       "    .dataframe tbody tr th:only-of-type {\n",
       "        vertical-align: middle;\n",
       "    }\n",
       "\n",
       "    .dataframe tbody tr th {\n",
       "        vertical-align: top;\n",
       "    }\n",
       "\n",
       "    .dataframe thead th {\n",
       "        text-align: right;\n",
       "    }\n",
       "</style>\n",
       "<table border=\"1\" class=\"dataframe\">\n",
       "  <thead>\n",
       "    <tr style=\"text-align: right;\">\n",
       "      <th></th>\n",
       "      <th>1</th>\n",
       "    </tr>\n",
       "  </thead>\n",
       "  <tbody>\n",
       "    <tr>\n",
       "      <th>ajayeb</th>\n",
       "      <td>64558</td>\n",
       "    </tr>\n",
       "    <tr>\n",
       "      <th>ajmal</th>\n",
       "      <td>60502</td>\n",
       "    </tr>\n",
       "    <tr>\n",
       "      <th>amreaj</th>\n",
       "      <td>57040</td>\n",
       "    </tr>\n",
       "    <tr>\n",
       "      <th>aood</th>\n",
       "      <td>71083</td>\n",
       "    </tr>\n",
       "    <tr>\n",
       "      <th>asgar_ali</th>\n",
       "      <td>68209</td>\n",
       "    </tr>\n",
       "    <tr>\n",
       "      <th>bukhoor</th>\n",
       "      <td>71046</td>\n",
       "    </tr>\n",
       "    <tr>\n",
       "      <th>burberrry</th>\n",
       "      <td>61096</td>\n",
       "    </tr>\n",
       "    <tr>\n",
       "      <th>dehenalaod</th>\n",
       "      <td>68132</td>\n",
       "    </tr>\n",
       "    <tr>\n",
       "      <th>junaid</th>\n",
       "      <td>71590</td>\n",
       "    </tr>\n",
       "    <tr>\n",
       "      <th>kausar</th>\n",
       "      <td>74631</td>\n",
       "    </tr>\n",
       "    <tr>\n",
       "      <th>rose</th>\n",
       "      <td>62999</td>\n",
       "    </tr>\n",
       "    <tr>\n",
       "      <th>solidmusk</th>\n",
       "      <td>46014</td>\n",
       "    </tr>\n",
       "    <tr>\n",
       "      <th>TeaTreeOil</th>\n",
       "      <td>82394</td>\n",
       "    </tr>\n",
       "    <tr>\n",
       "      <th>raspberry</th>\n",
       "      <td>78999</td>\n",
       "    </tr>\n",
       "    <tr>\n",
       "      <th>RoseMusk</th>\n",
       "      <td>85056</td>\n",
       "    </tr>\n",
       "    <tr>\n",
       "      <th>strawberry</th>\n",
       "      <td>71999</td>\n",
       "    </tr>\n",
       "    <tr>\n",
       "      <th>constrected2</th>\n",
       "      <td>66805</td>\n",
       "    </tr>\n",
       "    <tr>\n",
       "      <th>carolina_herrera</th>\n",
       "      <td>63076</td>\n",
       "    </tr>\n",
       "    <tr>\n",
       "      <th>oudh_ma'alattar</th>\n",
       "      <td>67197</td>\n",
       "    </tr>\n",
       "    <tr>\n",
       "      <th>constrected</th>\n",
       "      <td>65151</td>\n",
       "    </tr>\n",
       "  </tbody>\n",
       "</table>\n",
       "</div>"
      ],
      "text/plain": [
       "                      1\n",
       "ajayeb            64558\n",
       "ajmal             60502\n",
       "amreaj            57040\n",
       "aood              71083\n",
       "asgar_ali         68209\n",
       "bukhoor           71046\n",
       "burberrry         61096\n",
       "dehenalaod        68132\n",
       "junaid            71590\n",
       "kausar            74631\n",
       "rose              62999\n",
       "solidmusk         46014\n",
       "TeaTreeOil        82394\n",
       "raspberry         78999\n",
       "RoseMusk          85056\n",
       "strawberry        71999\n",
       "constrected2      66805\n",
       "carolina_herrera  63076\n",
       "oudh_ma'alattar   67197\n",
       "constrected       65151"
      ]
     },
     "execution_count": 27,
     "metadata": {},
     "output_type": "execute_result"
    }
   ],
   "source": [
    "dataset = pd.read_excel('perfume_data.xlsx',header=None)\n",
    "dataset = dataset.transpose()\n",
    "\n",
    "header = dataset.iloc[0]\n",
    "dataset = dataset[1:]\n",
    "dataset = dataset.rename(columns=header)\n",
    "\n",
    "dataset = dataset.iloc[:1,:].transpose()\n",
    "dataset"
   ]
  },
  {
   "cell_type": "code",
   "execution_count": 46,
   "metadata": {},
   "outputs": [
    {
     "data": {
      "text/plain": [
       "array([[4.9, 3. , 1.4, 0.2]])"
      ]
     },
     "execution_count": 46,
     "metadata": {},
     "output_type": "execute_result"
    }
   ],
   "source": [
    "iris = datasets.load_iris().data[[1]]\n",
    "iris"
   ]
  },
  {
   "cell_type": "code",
   "execution_count": 35,
   "metadata": {},
   "outputs": [
    {
     "data": {
      "text/plain": [
       "{-1, 0, 1, 2, 3}"
      ]
     },
     "execution_count": 35,
     "metadata": {},
     "output_type": "execute_result"
    }
   ],
   "source": [
    "db = DBSCAN(min_samples=3).fit(iris)\n",
    "\n",
    "labels = db.labels_\n",
    "\n",
    "unique = set(labels)\n",
    "\n",
    "unique"
   ]
  }
 ],
 "metadata": {
  "kernelspec": {
   "display_name": "Python 3",
   "language": "python",
   "name": "python3"
  },
  "language_info": {
   "codemirror_mode": {
    "name": "ipython",
    "version": 3
   },
   "file_extension": ".py",
   "mimetype": "text/x-python",
   "name": "python",
   "nbconvert_exporter": "python",
   "pygments_lexer": "ipython3",
   "version": "3.6.3"
  }
 },
 "nbformat": 4,
 "nbformat_minor": 2
}
