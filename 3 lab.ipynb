{
 "cells": [
  {
   "cell_type": "code",
   "execution_count": 37,
   "metadata": {},
   "outputs": [],
   "source": [
    "import pandas as pd\n",
    "from sklearn import datasets, preprocessing;\n",
    "from pprint import pprint"
   ]
  },
  {
   "cell_type": "markdown",
   "metadata": {},
   "source": [
    "### Check attributes are standardized or not"
   ]
  },
  {
   "cell_type": "markdown",
   "metadata": {},
   "source": [
    "#### i) wine dataset"
   ]
  },
  {
   "cell_type": "code",
   "execution_count": 54,
   "metadata": {},
   "outputs": [
    {
     "name": "stdout",
     "output_type": "stream",
     "text": [
      "0      13.000618\n",
      "1       2.336348\n",
      "2       2.366517\n",
      "3      19.494944\n",
      "4      99.741573\n",
      "5       2.295112\n",
      "6       2.029270\n",
      "7       0.361854\n",
      "8       1.590899\n",
      "9       5.058090\n",
      "10      0.957449\n",
      "11      2.611685\n",
      "12    746.893258\n",
      "dtype: float64 \n",
      "\n",
      "0     0.016854\n",
      "1     0.146067\n",
      "2     0.028090\n",
      "3    -0.016854\n",
      "4     0.078652\n",
      "5    -0.016854\n",
      "6    -0.044944\n",
      "7     0.078652\n",
      "8     0.022472\n",
      "9     0.061798\n",
      "10    0.005618\n",
      "11   -0.067416\n",
      "12    0.078652\n",
      "dtype: float64\n"
     ]
    }
   ],
   "source": [
    "wine = datasets.load_wine()\n",
    "\n",
    "dataset = wine.data\n",
    "standardized_dataset = preprocessing.scale(dataset)\n",
    "\n",
    "df = pd.DataFrame(dataset)\n",
    "std_df = pd.DataFrame(standardized_dataset,dtype=\"int\")\n",
    "\n",
    "print(df.mean(),\"\\n\")\n",
    "print(std_df.mean())"
   ]
  },
  {
   "cell_type": "markdown",
   "metadata": {},
   "source": [
    "#### ii) iris dataset"
   ]
  },
  {
   "cell_type": "code",
   "execution_count": 75,
   "metadata": {},
   "outputs": [
    {
     "name": "stdout",
     "output_type": "stream",
     "text": [
      "0    5.843333\n",
      "1    3.054000\n",
      "2    3.758667\n",
      "3    1.198667\n",
      "dtype: float64 \n",
      "\n",
      "0    0.013333\n",
      "1    0.026667\n",
      "2   -0.166667\n",
      "3   -0.126667\n",
      "dtype: float64\n"
     ]
    }
   ],
   "source": [
    "iris = datasets.load_iris()\n",
    "\n",
    "dataset = iris.data\n",
    "standardized_dataset = preprocessing.scale(dataset)\n",
    "\n",
    "df = pd.DataFrame(dataset)\n",
    "std_df = pd.DataFrame(standardized_dataset,dtype=\"int\")\n",
    "\n",
    "print(df.mean(),\"\\n\")\n",
    "print(std_df.mean())"
   ]
  }
 ],
 "metadata": {
  "kernelspec": {
   "display_name": "Python 3",
   "language": "python",
   "name": "python3"
  },
  "language_info": {
   "codemirror_mode": {
    "name": "ipython",
    "version": 3
   },
   "file_extension": ".py",
   "mimetype": "text/x-python",
   "name": "python",
   "nbconvert_exporter": "python",
   "pygments_lexer": "ipython3",
   "version": "3.6.3"
  }
 },
 "nbformat": 4,
 "nbformat_minor": 2
}
